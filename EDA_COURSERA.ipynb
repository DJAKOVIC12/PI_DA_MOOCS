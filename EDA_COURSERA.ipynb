{
 "cells": [
  {
   "cell_type": "code",
   "execution_count": 2,
   "metadata": {},
   "outputs": [],
   "source": [
    "import pandas as pd\n",
    "import numpy as np\n",
    "import matplotlib.pyplot as plt\n",
    "import seaborn as sns"
   ]
  },
  {
   "cell_type": "code",
   "execution_count": null,
   "metadata": {},
   "outputs": [],
   "source": [
    "#Carpeta donde se encuentra los dataset\n",
    "#https://drive.google.com/drive/folders/1Uq6AL0-EYqvIJUXsC-Z2MUsU9tJTgsVy?usp=drive_link"
   ]
  },
  {
   "cell_type": "code",
   "execution_count": 3,
   "metadata": {},
   "outputs": [],
   "source": [
    "# Paso 1: Cargar el archivo CSV en un DataFrame de Pandas\n",
    "df = pd.read_csv('Moocs/Coursera_reviews.csv')"
   ]
  },
  {
   "cell_type": "code",
   "execution_count": 17,
   "metadata": {},
   "outputs": [
    {
     "data": {
      "text/html": [
       "<div>\n",
       "<style scoped>\n",
       "    .dataframe tbody tr th:only-of-type {\n",
       "        vertical-align: middle;\n",
       "    }\n",
       "\n",
       "    .dataframe tbody tr th {\n",
       "        vertical-align: top;\n",
       "    }\n",
       "\n",
       "    .dataframe thead th {\n",
       "        text-align: right;\n",
       "    }\n",
       "</style>\n",
       "<table border=\"1\" class=\"dataframe\">\n",
       "  <thead>\n",
       "    <tr style=\"text-align: right;\">\n",
       "      <th></th>\n",
       "      <th>reviews</th>\n",
       "      <th>reviewers</th>\n",
       "      <th>date_reviews</th>\n",
       "      <th>rating</th>\n",
       "      <th>course_id</th>\n",
       "    </tr>\n",
       "  </thead>\n",
       "  <tbody>\n",
       "    <tr>\n",
       "      <th>0</th>\n",
       "      <td>Pretty dry, but I was able to pass with just t...</td>\n",
       "      <td>By Robert S</td>\n",
       "      <td>Feb 12, 2020</td>\n",
       "      <td>4</td>\n",
       "      <td>google-cbrs-cpi-training</td>\n",
       "    </tr>\n",
       "    <tr>\n",
       "      <th>1</th>\n",
       "      <td>would be a better experience if the video and ...</td>\n",
       "      <td>By Gabriel E R</td>\n",
       "      <td>Sep 28, 2020</td>\n",
       "      <td>4</td>\n",
       "      <td>google-cbrs-cpi-training</td>\n",
       "    </tr>\n",
       "    <tr>\n",
       "      <th>2</th>\n",
       "      <td>Information was perfect! The program itself wa...</td>\n",
       "      <td>By Jacob D</td>\n",
       "      <td>Apr 08, 2020</td>\n",
       "      <td>4</td>\n",
       "      <td>google-cbrs-cpi-training</td>\n",
       "    </tr>\n",
       "    <tr>\n",
       "      <th>3</th>\n",
       "      <td>A few grammatical mistakes on test made me do ...</td>\n",
       "      <td>By Dale B</td>\n",
       "      <td>Feb 24, 2020</td>\n",
       "      <td>4</td>\n",
       "      <td>google-cbrs-cpi-training</td>\n",
       "    </tr>\n",
       "    <tr>\n",
       "      <th>4</th>\n",
       "      <td>Excellent course and the training provided was...</td>\n",
       "      <td>By Sean G</td>\n",
       "      <td>Jun 18, 2020</td>\n",
       "      <td>4</td>\n",
       "      <td>google-cbrs-cpi-training</td>\n",
       "    </tr>\n",
       "  </tbody>\n",
       "</table>\n",
       "</div>"
      ],
      "text/plain": [
       "                                             reviews       reviewers  \\\n",
       "0  Pretty dry, but I was able to pass with just t...     By Robert S   \n",
       "1  would be a better experience if the video and ...  By Gabriel E R   \n",
       "2  Information was perfect! The program itself wa...      By Jacob D   \n",
       "3  A few grammatical mistakes on test made me do ...       By Dale B   \n",
       "4  Excellent course and the training provided was...       By Sean G   \n",
       "\n",
       "   date_reviews  rating                 course_id  \n",
       "0  Feb 12, 2020       4  google-cbrs-cpi-training  \n",
       "1  Sep 28, 2020       4  google-cbrs-cpi-training  \n",
       "2  Apr 08, 2020       4  google-cbrs-cpi-training  \n",
       "3  Feb 24, 2020       4  google-cbrs-cpi-training  \n",
       "4  Jun 18, 2020       4  google-cbrs-cpi-training  "
      ]
     },
     "execution_count": 17,
     "metadata": {},
     "output_type": "execute_result"
    }
   ],
   "source": [
    "df.head()"
   ]
  },
  {
   "cell_type": "code",
   "execution_count": 4,
   "metadata": {},
   "outputs": [
    {
     "name": "stdout",
     "output_type": "stream",
     "text": [
      "                                             reviews       reviewers  \\\n",
      "0  Pretty dry, but I was able to pass with just t...     By Robert S   \n",
      "1  would be a better experience if the video and ...  By Gabriel E R   \n",
      "2  Information was perfect! The program itself wa...      By Jacob D   \n",
      "3  A few grammatical mistakes on test made me do ...       By Dale B   \n",
      "4  Excellent course and the training provided was...       By Sean G   \n",
      "\n",
      "   date_reviews  rating                 course_id  \n",
      "0  Feb 12, 2020       4  google-cbrs-cpi-training  \n",
      "1  Sep 28, 2020       4  google-cbrs-cpi-training  \n",
      "2  Apr 08, 2020       4  google-cbrs-cpi-training  \n",
      "3  Feb 24, 2020       4  google-cbrs-cpi-training  \n",
      "4  Jun 18, 2020       4  google-cbrs-cpi-training  \n"
     ]
    }
   ],
   "source": [
    "# Paso 2: Explorar los primeros registros del DataFrame\n",
    "print(df.head())"
   ]
  },
  {
   "cell_type": "code",
   "execution_count": 5,
   "metadata": {},
   "outputs": [
    {
     "name": "stdout",
     "output_type": "stream",
     "text": [
      "<class 'pandas.core.frame.DataFrame'>\n",
      "RangeIndex: 1454711 entries, 0 to 1454710\n",
      "Data columns (total 5 columns):\n",
      " #   Column        Non-Null Count    Dtype \n",
      "---  ------        --------------    ----- \n",
      " 0   reviews       1454571 non-null  object\n",
      " 1   reviewers     1454711 non-null  object\n",
      " 2   date_reviews  1454711 non-null  object\n",
      " 3   rating        1454711 non-null  int64 \n",
      " 4   course_id     1454711 non-null  object\n",
      "dtypes: int64(1), object(4)\n",
      "memory usage: 55.5+ MB\n",
      "None\n"
     ]
    }
   ],
   "source": [
    "# Paso 3: Obtener información general sobre el DataFrame\n",
    "print(df.info())"
   ]
  },
  {
   "cell_type": "code",
   "execution_count": 6,
   "metadata": {},
   "outputs": [
    {
     "name": "stdout",
     "output_type": "stream",
     "text": [
      "reviews         140\n",
      "reviewers         0\n",
      "date_reviews      0\n",
      "rating            0\n",
      "course_id         0\n",
      "dtype: int64\n"
     ]
    }
   ],
   "source": [
    "# Paso 4: Verificar y tratar los valores faltantes\n",
    "print(df.isnull().sum())"
   ]
  },
  {
   "cell_type": "code",
   "execution_count": 7,
   "metadata": {},
   "outputs": [],
   "source": [
    "# Tratamiento de valores faltantes (ejemplo)\n",
    "df = df.dropna()  # Eliminar filas con valores faltantes"
   ]
  },
  {
   "cell_type": "code",
   "execution_count": 8,
   "metadata": {},
   "outputs": [],
   "source": [
    "# O\n",
    "df['reviews'].fillna('sin dato', inplace=True)  # Rellenar valores faltantes con un valor específico"
   ]
  },
  {
   "cell_type": "code",
   "execution_count": 9,
   "metadata": {},
   "outputs": [
    {
     "name": "stdout",
     "output_type": "stream",
     "text": [
      "             rating\n",
      "count  1.454571e+06\n",
      "mean   4.696676e+00\n",
      "std    6.982951e-01\n",
      "min    1.000000e+00\n",
      "25%    5.000000e+00\n",
      "50%    5.000000e+00\n",
      "75%    5.000000e+00\n",
      "max    5.000000e+00\n"
     ]
    }
   ],
   "source": [
    "# Paso 5: Resumen estadístico del DataFrame\n",
    "print(df.describe())"
   ]
  },
  {
   "cell_type": "code",
   "execution_count": 11,
   "metadata": {},
   "outputs": [],
   "source": [
    "duplicates = df.duplicated()\n",
    "\n",
    "\n"
   ]
  },
  {
   "cell_type": "code",
   "execution_count": 12,
   "metadata": {},
   "outputs": [
    {
     "name": "stdout",
     "output_type": "stream",
     "text": [
      "                                                   reviews        reviewers  \\\n",
      "31       Solid presentation all the way through. I real...       By Logan D   \n",
      "32       Probably the best certification course I've ta...      By Luis M C   \n",
      "33       The ProctorU.com system took 2 times the amoun...       By scott w   \n",
      "34       Covered all of the required information in an ...        By Ryan H   \n",
      "35       Great course, lectures were straight forward a...      By Samuel D   \n",
      "...                                                    ...              ...   \n",
      "1454706                                                  g     By Brijesh K   \n",
      "1454707                                                  .    By Vasavi V M   \n",
      "1454708                                                  .     By Drishti D   \n",
      "1454709                                                  .  By FAUSTINE F K   \n",
      "1454710                                                  G        By Reza S   \n",
      "\n",
      "         date_reviews  rating                 course_id  \n",
      "31       Sep 03, 2020       5  google-cbrs-cpi-training  \n",
      "32       Nov 21, 2019       5  google-cbrs-cpi-training  \n",
      "33       Sep 28, 2020       5  google-cbrs-cpi-training  \n",
      "34       Aug 26, 2019       5  google-cbrs-cpi-training  \n",
      "35       Jan 24, 2020       5  google-cbrs-cpi-training  \n",
      "...               ...     ...                       ...  \n",
      "1454706  Aug 25, 2020       5       computer-networking  \n",
      "1454707  Jul 02, 2020       5       computer-networking  \n",
      "1454708  Jun 20, 2020       5       computer-networking  \n",
      "1454709  Jun 07, 2020       5       computer-networking  \n",
      "1454710  Aug 12, 2018       5       computer-networking  \n",
      "\n",
      "[934680 rows x 5 columns]\n"
     ]
    }
   ],
   "source": [
    "print(df[duplicates])\n"
   ]
  },
  {
   "cell_type": "code",
   "execution_count": 13,
   "metadata": {},
   "outputs": [],
   "source": [
    "df_cleaned = df.drop_duplicates()\n"
   ]
  },
  {
   "cell_type": "code",
   "execution_count": 15,
   "metadata": {},
   "outputs": [
    {
     "data": {
      "text/html": [
       "<div>\n",
       "<style scoped>\n",
       "    .dataframe tbody tr th:only-of-type {\n",
       "        vertical-align: middle;\n",
       "    }\n",
       "\n",
       "    .dataframe tbody tr th {\n",
       "        vertical-align: top;\n",
       "    }\n",
       "\n",
       "    .dataframe thead th {\n",
       "        text-align: right;\n",
       "    }\n",
       "</style>\n",
       "<table border=\"1\" class=\"dataframe\">\n",
       "  <thead>\n",
       "    <tr style=\"text-align: right;\">\n",
       "      <th></th>\n",
       "      <th>reviews</th>\n",
       "      <th>reviewers</th>\n",
       "      <th>date_reviews</th>\n",
       "      <th>rating</th>\n",
       "      <th>course_id</th>\n",
       "    </tr>\n",
       "  </thead>\n",
       "  <tbody>\n",
       "    <tr>\n",
       "      <th>0</th>\n",
       "      <td>Pretty dry, but I was able to pass with just t...</td>\n",
       "      <td>By Robert S</td>\n",
       "      <td>Feb 12, 2020</td>\n",
       "      <td>4</td>\n",
       "      <td>google-cbrs-cpi-training</td>\n",
       "    </tr>\n",
       "    <tr>\n",
       "      <th>1</th>\n",
       "      <td>would be a better experience if the video and ...</td>\n",
       "      <td>By Gabriel E R</td>\n",
       "      <td>Sep 28, 2020</td>\n",
       "      <td>4</td>\n",
       "      <td>google-cbrs-cpi-training</td>\n",
       "    </tr>\n",
       "    <tr>\n",
       "      <th>2</th>\n",
       "      <td>Information was perfect! The program itself wa...</td>\n",
       "      <td>By Jacob D</td>\n",
       "      <td>Apr 08, 2020</td>\n",
       "      <td>4</td>\n",
       "      <td>google-cbrs-cpi-training</td>\n",
       "    </tr>\n",
       "    <tr>\n",
       "      <th>3</th>\n",
       "      <td>A few grammatical mistakes on test made me do ...</td>\n",
       "      <td>By Dale B</td>\n",
       "      <td>Feb 24, 2020</td>\n",
       "      <td>4</td>\n",
       "      <td>google-cbrs-cpi-training</td>\n",
       "    </tr>\n",
       "    <tr>\n",
       "      <th>4</th>\n",
       "      <td>Excellent course and the training provided was...</td>\n",
       "      <td>By Sean G</td>\n",
       "      <td>Jun 18, 2020</td>\n",
       "      <td>4</td>\n",
       "      <td>google-cbrs-cpi-training</td>\n",
       "    </tr>\n",
       "  </tbody>\n",
       "</table>\n",
       "</div>"
      ],
      "text/plain": [
       "                                             reviews       reviewers  \\\n",
       "0  Pretty dry, but I was able to pass with just t...     By Robert S   \n",
       "1  would be a better experience if the video and ...  By Gabriel E R   \n",
       "2  Information was perfect! The program itself wa...      By Jacob D   \n",
       "3  A few grammatical mistakes on test made me do ...       By Dale B   \n",
       "4  Excellent course and the training provided was...       By Sean G   \n",
       "\n",
       "   date_reviews  rating                 course_id  \n",
       "0  Feb 12, 2020       4  google-cbrs-cpi-training  \n",
       "1  Sep 28, 2020       4  google-cbrs-cpi-training  \n",
       "2  Apr 08, 2020       4  google-cbrs-cpi-training  \n",
       "3  Feb 24, 2020       4  google-cbrs-cpi-training  \n",
       "4  Jun 18, 2020       4  google-cbrs-cpi-training  "
      ]
     },
     "execution_count": 15,
     "metadata": {},
     "output_type": "execute_result"
    }
   ],
   "source": [
    "df_cleaned.head()"
   ]
  },
  {
   "cell_type": "code",
   "execution_count": null,
   "metadata": {},
   "outputs": [],
   "source": [
    "df_cleaned.to_csv('coursera_review_cleaned.csv', index=False)\n"
   ]
  },
  {
   "cell_type": "code",
   "execution_count": 14,
   "metadata": {},
   "outputs": [
    {
     "data": {
      "image/png": "[encoded data removed]",
      "text/plain": [
       "<Figure size 1200x800 with 1 Axes>"
      ]
     },
     "metadata": {},
     "output_type": "display_data"
    },
    {
     "data": {
      "image/png": "[encoded data removed]",
      "text/plain": [
       "<Figure size 1200x800 with 1 Axes>"
      ]
     },
     "metadata": {},
     "output_type": "display_data"
    }
   ],
   "source": [
    "# Paso 6: Visualizar la distribución de las variables numéricas utilizando gráficos de violín y cajas\n",
    "plt.figure(figsize=(12, 8))\n",
    "sns.violinplot(data=df_cleaned, y='rating')\n",
    "plt.show()\n",
    "\n",
    "plt.figure(figsize=(12, 8))\n",
    "sns.boxplot(data=df_cleaned, y='rating')\n",
    "plt.show()"
   ]
  },
  {
   "cell_type": "code",
   "execution_count": null,
   "metadata": {},
   "outputs": [],
   "source": [
    "# Paso 7: Visualizar la relación entre variables numéricas utilizando un gráfico de dispersión y una matriz de dispersión\n",
    "plt.figure(figsize=(10, 8))\n",
    "sns.scatterplot(data=df, x='columna_numerica1', y='columna_numerica2')\n",
    "plt.show()\n",
    "\n",
    "plt.figure(figsize=(12, 10))\n",
    "sns.pairplot(data=df, vars=['columna_numerica1', 'columna_numerica2', 'columna_numerica3'])\n",
    "plt.show()"
   ]
  },
  {
   "cell_type": "code",
   "execution_count": 16,
   "metadata": {},
   "outputs": [
    {
     "name": "stderr",
     "output_type": "stream",
     "text": [
      "/var/folders/cf/5nv863qj24s_gxr8p3cmtljr0000gn/T/ipykernel_11081/2071140531.py:2: FutureWarning: The default value of numeric_only in DataFrame.corr is deprecated. In a future version, it will default to False. Select only valid columns or specify the value of numeric_only to silence this warning.\n",
      "  correlation_matrix = df_cleaned.corr()\n"
     ]
    },
    {
     "data": {
      "image/png": "[encoded data removed]",
      "text/plain": [
       "<Figure size 1000x800 with 2 Axes>"
      ]
     },
     "metadata": {},
     "output_type": "display_data"
    }
   ],
   "source": [
    "# Paso 8: Calcular la matriz de correlación y visualizarla como un mapa de calor\n",
    "correlation_matrix = df_cleaned.corr()\n",
    "plt.figure(figsize=(10, 8))\n",
    "sns.heatmap(correlation_matrix, annot=True, cmap='coolwarm')\n",
    "plt.show()"
   ]
  },
  {
   "cell_type": "code",
   "execution_count": null,
   "metadata": {},
   "outputs": [],
   "source": [
    "# Paso 9: Explorar las variables categóricas utilizando gráficos de barras y diagramas de dispersión\n",
    "plt.figure(figsize=(10, 8))\n",
    "sns.countplot(data=df, x='columna_categorica')\n",
    "plt.show()\n",
    "\n",
    "plt.figure(figsize=(10, 8))\n",
    "sns.stripplot(data=df, x='columna_categorica', y='columna_numerica')\n",
    "plt.show()"
   ]
  },
  {
   "attachments": {},
   "cell_type": "markdown",
   "metadata": {},
   "source": [
    "EDA + COMPLETO "
   ]
  },
  {
   "attachments": {},
   "cell_type": "markdown",
   "metadata": {},
   "source": [
    "Gráficos interactivos utilizando Plotly:"
   ]
  },
  {
   "cell_type": "code",
   "execution_count": null,
   "metadata": {},
   "outputs": [],
   "source": [
    "import pandas as pd\n",
    "import plotly.express as px\n",
    "\n",
    "df = pd.read_csv('ruta_del_archivo.csv')\n",
    "\n",
    "# Gráfico interactivo de dispersión\n",
    "fig = px.scatter(df, x='columna_numerica1', y='columna_numerica2', color='columna_categorica', hover_data=['columna_otra'])\n",
    "fig.show()\n",
    "\n",
    "# Gráfico interactivo de barras\n",
    "fig = px.bar(df, x='columna_categorica', y='columna_numerica', color='columna_categorica', barmode='group')\n",
    "fig.show()\n"
   ]
  },
  {
   "attachments": {},
   "cell_type": "markdown",
   "metadata": {},
   "source": [
    "Análisis de outliers utilizando Boxplot:"
   ]
  },
  {
   "cell_type": "code",
   "execution_count": null,
   "metadata": {},
   "outputs": [],
   "source": [
    "import pandas as pd\n",
    "import seaborn as sns\n",
    "\n",
    "df = pd.read_csv('ruta_del_archivo.csv')\n",
    "\n",
    "plt.figure(figsize=(10, 8))\n",
    "sns.boxplot(data=df, y='columna_numerica')\n",
    "plt.show()\n"
   ]
  },
  {
   "attachments": {},
   "cell_type": "markdown",
   "metadata": {},
   "source": [
    "Análisis de datos geoespaciales utilizando Folium:"
   ]
  },
  {
   "cell_type": "code",
   "execution_count": null,
   "metadata": {},
   "outputs": [],
   "source": [
    "import pandas as pd\n",
    "import folium\n",
    "\n",
    "df = pd.read_csv('ruta_del_archivo.csv')\n",
    "\n",
    "# Crear un mapa centrado en una ubicación específica\n",
    "m = folium.Map(location=[latitud_centro, longitud_centro], zoom_start=12)\n",
    "\n",
    "# Agregar marcadores al mapa\n",
    "for index, row in df.iterrows():\n",
    "    folium.Marker([row['latitud'], row['longitud']], popup=row['informacion_adicional']).add_to(m)\n",
    "\n",
    "# Mostrar el mapa\n",
    "m\n"
   ]
  },
  {
   "attachments": {},
   "cell_type": "markdown",
   "metadata": {},
   "source": []
  },
  {
   "cell_type": "code",
   "execution_count": null,
   "metadata": {},
   "outputs": [],
   "source": []
  }
 ],
 "metadata": {
  "kernelspec": {
   "display_name": "Python 3",
   "language": "python",
   "name": "python3"
  },
  "language_info": {
   "codemirror_mode": {
    "name": "ipython",
    "version": 3
   },
   "file_extension": ".py",
   "mimetype": "text/x-python",
   "name": "python",
   "nbconvert_exporter": "python",
   "pygments_lexer": "ipython3",
   "version": "3.11.1"
  },
  "orig_nbformat": 4
 },
 "nbformat": 4,
 "nbformat_minor": 2
}
